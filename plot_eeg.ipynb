{
 "cells": [
  {
   "cell_type": "markdown",
   "id": "769dc706",
   "metadata": {},
   "source": [
    "#### Imports"
   ]
  },
  {
   "cell_type": "code",
   "execution_count": 1,
   "id": "2075be99-abce-42b0-b74c-e5bedc871f47",
   "metadata": {},
   "outputs": [],
   "source": [
    "from typing import Annotated, Literal, TypeVar\n",
    "import mne\n",
    "import numpy as np\n",
    "import numpy.typing as npt\n",
    "import matplotlib.pyplot as plt\n",
    "import scipy\n",
    "import pywt\n",
    "import pandas as pd\n",
    "\n",
    "mne.set_log_level('WARNING')\n",
    "mne.set_config('MNE_BROWSE_RAW_SIZE', '16,8')\n",
    "\n",
    "# Types\n",
    "\n",
    "DType = TypeVar(\"DType\", bound=np.generic)\n",
    "ArrayN = Annotated[npt.NDArray[DType], Literal['N']]"
   ]
  },
  {
   "cell_type": "markdown",
   "id": "bbc6b366",
   "metadata": {},
   "source": [
    "# Get Data"
   ]
  },
  {
   "cell_type": "markdown",
   "id": "8c640b78",
   "metadata": {},
   "source": [
    "#### Bonn University"
   ]
  },
  {
   "cell_type": "code",
   "execution_count": 2,
   "id": "09ff65b9-8ca8-4736-9430-c1395b61e2e4",
   "metadata": {},
   "outputs": [],
   "source": [
    "def get_data_bonn(sets_to_read: list, time_segments: int, time_points: int) -> dict[str, np.ndarray]:\n",
    "    \"\"\"\n",
    "    Returns data for all specified sets from the Bonn University dataset\n",
    "    Data returned is in a dictionary with set letters as keys and 3d numpy arrays (time_segments, channels, time_points) as values\n",
    "\n",
    "    Sets A and B are from healthy patients, while Sets C, D, and E are from epileptic patients.\n",
    "\n",
    "    Sets C and D are seizure-free segments while set E is during a seizure.\n",
    "\n",
    "    Each set contains 100 single-channel EEG segments of 23.6-sec duration. The EEGs were recorded at a sampling rate of 173.61 Hz with 12-bit resolution over a 10 mV range.\n",
    "    \"\"\"\n",
    "    data = dict()\n",
    "\n",
    "    # maps from set_letter to set_letter_alternate (for the filenames)\n",
    "    sets_to_file_prefixes = {\n",
    "        'A': 'Z',\n",
    "        'B': 'O',\n",
    "        'C': 'N',\n",
    "        'D': 'F',\n",
    "        'E': 'S'\n",
    "    }\n",
    "\n",
    "    for set in sets_to_read:\n",
    "        if set not in sets_to_file_prefixes:\n",
    "            continue\n",
    "\n",
    "        set_letter_alternate = sets_to_file_prefixes[set]\n",
    "\n",
    "        set_data = np.zeros((time_segments, 1, time_points))\n",
    "        for i in range(time_segments):\n",
    "            filename = f'data/bonn/SET {set}/{set_letter_alternate}{str(i+1).zfill(3)}.txt'\n",
    "            z = np.loadtxt(filename)\n",
    "            set_data[i][0] = z[:time_points]\n",
    "\n",
    "        data[set] = set_data\n",
    "\n",
    "    return data"
   ]
  },
  {
   "cell_type": "markdown",
   "id": "8f5fffb5",
   "metadata": {},
   "source": [
    "#### AHEPA"
   ]
  },
  {
   "cell_type": "code",
   "execution_count": 3,
   "id": "b09ebaf1",
   "metadata": {},
   "outputs": [
    {
     "name": "stderr",
     "output_type": "stream",
     "text": [
      "/var/folders/jn/90br8jjn68b1psqfzrd83ry40000gn/T/ipykernel_80156/2565375832.py:18: RuntimeWarning: The data contains 'boundary' events, indicating data discontinuities. Be cautious of filtering and epoching around these events.\n",
      "  raw = mne.io.read_raw_eeglab(filename, preload=True)\n",
      "/var/folders/jn/90br8jjn68b1psqfzrd83ry40000gn/T/ipykernel_80156/2565375832.py:18: RuntimeWarning: The data contains 'boundary' events, indicating data discontinuities. Be cautious of filtering and epoching around these events.\n",
      "  raw = mne.io.read_raw_eeglab(filename, preload=True)\n",
      "/var/folders/jn/90br8jjn68b1psqfzrd83ry40000gn/T/ipykernel_80156/2565375832.py:18: RuntimeWarning: The data contains 'boundary' events, indicating data discontinuities. Be cautious of filtering and epoching around these events.\n",
      "  raw = mne.io.read_raw_eeglab(filename, preload=True)\n",
      "/var/folders/jn/90br8jjn68b1psqfzrd83ry40000gn/T/ipykernel_80156/2565375832.py:18: RuntimeWarning: The data contains 'boundary' events, indicating data discontinuities. Be cautious of filtering and epoching around these events.\n",
      "  raw = mne.io.read_raw_eeglab(filename, preload=True)\n",
      "/var/folders/jn/90br8jjn68b1psqfzrd83ry40000gn/T/ipykernel_80156/2565375832.py:18: RuntimeWarning: The data contains 'boundary' events, indicating data discontinuities. Be cautious of filtering and epoching around these events.\n",
      "  raw = mne.io.read_raw_eeglab(filename, preload=True)\n",
      "/var/folders/jn/90br8jjn68b1psqfzrd83ry40000gn/T/ipykernel_80156/2565375832.py:18: RuntimeWarning: The data contains 'boundary' events, indicating data discontinuities. Be cautious of filtering and epoching around these events.\n",
      "  raw = mne.io.read_raw_eeglab(filename, preload=True)\n",
      "/var/folders/jn/90br8jjn68b1psqfzrd83ry40000gn/T/ipykernel_80156/2565375832.py:18: RuntimeWarning: The data contains 'boundary' events, indicating data discontinuities. Be cautious of filtering and epoching around these events.\n",
      "  raw = mne.io.read_raw_eeglab(filename, preload=True)\n",
      "/var/folders/jn/90br8jjn68b1psqfzrd83ry40000gn/T/ipykernel_80156/2565375832.py:18: RuntimeWarning: The data contains 'boundary' events, indicating data discontinuities. Be cautious of filtering and epoching around these events.\n",
      "  raw = mne.io.read_raw_eeglab(filename, preload=True)\n",
      "/var/folders/jn/90br8jjn68b1psqfzrd83ry40000gn/T/ipykernel_80156/2565375832.py:18: RuntimeWarning: The data contains 'boundary' events, indicating data discontinuities. Be cautious of filtering and epoching around these events.\n",
      "  raw = mne.io.read_raw_eeglab(filename, preload=True)\n",
      "/var/folders/jn/90br8jjn68b1psqfzrd83ry40000gn/T/ipykernel_80156/2565375832.py:18: RuntimeWarning: The data contains 'boundary' events, indicating data discontinuities. Be cautious of filtering and epoching around these events.\n",
      "  raw = mne.io.read_raw_eeglab(filename, preload=True)\n",
      "/var/folders/jn/90br8jjn68b1psqfzrd83ry40000gn/T/ipykernel_80156/2565375832.py:18: RuntimeWarning: The data contains 'boundary' events, indicating data discontinuities. Be cautious of filtering and epoching around these events.\n",
      "  raw = mne.io.read_raw_eeglab(filename, preload=True)\n",
      "/var/folders/jn/90br8jjn68b1psqfzrd83ry40000gn/T/ipykernel_80156/2565375832.py:18: RuntimeWarning: The data contains 'boundary' events, indicating data discontinuities. Be cautious of filtering and epoching around these events.\n",
      "  raw = mne.io.read_raw_eeglab(filename, preload=True)\n",
      "/var/folders/jn/90br8jjn68b1psqfzrd83ry40000gn/T/ipykernel_80156/2565375832.py:18: RuntimeWarning: The data contains 'boundary' events, indicating data discontinuities. Be cautious of filtering and epoching around these events.\n",
      "  raw = mne.io.read_raw_eeglab(filename, preload=True)\n",
      "/var/folders/jn/90br8jjn68b1psqfzrd83ry40000gn/T/ipykernel_80156/2565375832.py:18: RuntimeWarning: The data contains 'boundary' events, indicating data discontinuities. Be cautious of filtering and epoching around these events.\n",
      "  raw = mne.io.read_raw_eeglab(filename, preload=True)\n",
      "/var/folders/jn/90br8jjn68b1psqfzrd83ry40000gn/T/ipykernel_80156/2565375832.py:18: RuntimeWarning: The data contains 'boundary' events, indicating data discontinuities. Be cautious of filtering and epoching around these events.\n",
      "  raw = mne.io.read_raw_eeglab(filename, preload=True)\n",
      "/var/folders/jn/90br8jjn68b1psqfzrd83ry40000gn/T/ipykernel_80156/2565375832.py:18: RuntimeWarning: The data contains 'boundary' events, indicating data discontinuities. Be cautious of filtering and epoching around these events.\n",
      "  raw = mne.io.read_raw_eeglab(filename, preload=True)\n",
      "/var/folders/jn/90br8jjn68b1psqfzrd83ry40000gn/T/ipykernel_80156/2565375832.py:18: RuntimeWarning: The data contains 'boundary' events, indicating data discontinuities. Be cautious of filtering and epoching around these events.\n",
      "  raw = mne.io.read_raw_eeglab(filename, preload=True)\n",
      "/var/folders/jn/90br8jjn68b1psqfzrd83ry40000gn/T/ipykernel_80156/2565375832.py:18: RuntimeWarning: The data contains 'boundary' events, indicating data discontinuities. Be cautious of filtering and epoching around these events.\n",
      "  raw = mne.io.read_raw_eeglab(filename, preload=True)\n",
      "/var/folders/jn/90br8jjn68b1psqfzrd83ry40000gn/T/ipykernel_80156/2565375832.py:18: RuntimeWarning: The data contains 'boundary' events, indicating data discontinuities. Be cautious of filtering and epoching around these events.\n",
      "  raw = mne.io.read_raw_eeglab(filename, preload=True)\n",
      "/var/folders/jn/90br8jjn68b1psqfzrd83ry40000gn/T/ipykernel_80156/2565375832.py:18: RuntimeWarning: The data contains 'boundary' events, indicating data discontinuities. Be cautious of filtering and epoching around these events.\n",
      "  raw = mne.io.read_raw_eeglab(filename, preload=True)\n",
      "/var/folders/jn/90br8jjn68b1psqfzrd83ry40000gn/T/ipykernel_80156/2565375832.py:18: RuntimeWarning: The data contains 'boundary' events, indicating data discontinuities. Be cautious of filtering and epoching around these events.\n",
      "  raw = mne.io.read_raw_eeglab(filename, preload=True)\n",
      "/var/folders/jn/90br8jjn68b1psqfzrd83ry40000gn/T/ipykernel_80156/2565375832.py:18: RuntimeWarning: The data contains 'boundary' events, indicating data discontinuities. Be cautious of filtering and epoching around these events.\n",
      "  raw = mne.io.read_raw_eeglab(filename, preload=True)\n",
      "/var/folders/jn/90br8jjn68b1psqfzrd83ry40000gn/T/ipykernel_80156/2565375832.py:18: RuntimeWarning: The data contains 'boundary' events, indicating data discontinuities. Be cautious of filtering and epoching around these events.\n",
      "  raw = mne.io.read_raw_eeglab(filename, preload=True)\n",
      "/var/folders/jn/90br8jjn68b1psqfzrd83ry40000gn/T/ipykernel_80156/2565375832.py:18: RuntimeWarning: The data contains 'boundary' events, indicating data discontinuities. Be cautious of filtering and epoching around these events.\n",
      "  raw = mne.io.read_raw_eeglab(filename, preload=True)\n",
      "/var/folders/jn/90br8jjn68b1psqfzrd83ry40000gn/T/ipykernel_80156/2565375832.py:18: RuntimeWarning: The data contains 'boundary' events, indicating data discontinuities. Be cautious of filtering and epoching around these events.\n",
      "  raw = mne.io.read_raw_eeglab(filename, preload=True)\n",
      "/var/folders/jn/90br8jjn68b1psqfzrd83ry40000gn/T/ipykernel_80156/2565375832.py:18: RuntimeWarning: The data contains 'boundary' events, indicating data discontinuities. Be cautious of filtering and epoching around these events.\n",
      "  raw = mne.io.read_raw_eeglab(filename, preload=True)\n",
      "/var/folders/jn/90br8jjn68b1psqfzrd83ry40000gn/T/ipykernel_80156/2565375832.py:18: RuntimeWarning: The data contains 'boundary' events, indicating data discontinuities. Be cautious of filtering and epoching around these events.\n",
      "  raw = mne.io.read_raw_eeglab(filename, preload=True)\n",
      "/var/folders/jn/90br8jjn68b1psqfzrd83ry40000gn/T/ipykernel_80156/2565375832.py:18: RuntimeWarning: The data contains 'boundary' events, indicating data discontinuities. Be cautious of filtering and epoching around these events.\n",
      "  raw = mne.io.read_raw_eeglab(filename, preload=True)\n",
      "/var/folders/jn/90br8jjn68b1psqfzrd83ry40000gn/T/ipykernel_80156/2565375832.py:18: RuntimeWarning: The data contains 'boundary' events, indicating data discontinuities. Be cautious of filtering and epoching around these events.\n",
      "  raw = mne.io.read_raw_eeglab(filename, preload=True)\n",
      "/var/folders/jn/90br8jjn68b1psqfzrd83ry40000gn/T/ipykernel_80156/2565375832.py:18: RuntimeWarning: The data contains 'boundary' events, indicating data discontinuities. Be cautious of filtering and epoching around these events.\n",
      "  raw = mne.io.read_raw_eeglab(filename, preload=True)\n",
      "/var/folders/jn/90br8jjn68b1psqfzrd83ry40000gn/T/ipykernel_80156/2565375832.py:18: RuntimeWarning: The data contains 'boundary' events, indicating data discontinuities. Be cautious of filtering and epoching around these events.\n",
      "  raw = mne.io.read_raw_eeglab(filename, preload=True)\n",
      "/var/folders/jn/90br8jjn68b1psqfzrd83ry40000gn/T/ipykernel_80156/2565375832.py:18: RuntimeWarning: The data contains 'boundary' events, indicating data discontinuities. Be cautious of filtering and epoching around these events.\n",
      "  raw = mne.io.read_raw_eeglab(filename, preload=True)\n",
      "/var/folders/jn/90br8jjn68b1psqfzrd83ry40000gn/T/ipykernel_80156/2565375832.py:18: RuntimeWarning: The data contains 'boundary' events, indicating data discontinuities. Be cautious of filtering and epoching around these events.\n",
      "  raw = mne.io.read_raw_eeglab(filename, preload=True)\n",
      "/var/folders/jn/90br8jjn68b1psqfzrd83ry40000gn/T/ipykernel_80156/2565375832.py:18: RuntimeWarning: The data contains 'boundary' events, indicating data discontinuities. Be cautious of filtering and epoching around these events.\n",
      "  raw = mne.io.read_raw_eeglab(filename, preload=True)\n",
      "/var/folders/jn/90br8jjn68b1psqfzrd83ry40000gn/T/ipykernel_80156/2565375832.py:18: RuntimeWarning: The data contains 'boundary' events, indicating data discontinuities. Be cautious of filtering and epoching around these events.\n",
      "  raw = mne.io.read_raw_eeglab(filename, preload=True)\n",
      "/var/folders/jn/90br8jjn68b1psqfzrd83ry40000gn/T/ipykernel_80156/2565375832.py:18: RuntimeWarning: The data contains 'boundary' events, indicating data discontinuities. Be cautious of filtering and epoching around these events.\n",
      "  raw = mne.io.read_raw_eeglab(filename, preload=True)\n",
      "/var/folders/jn/90br8jjn68b1psqfzrd83ry40000gn/T/ipykernel_80156/2565375832.py:18: RuntimeWarning: The data contains 'boundary' events, indicating data discontinuities. Be cautious of filtering and epoching around these events.\n",
      "  raw = mne.io.read_raw_eeglab(filename, preload=True)\n",
      "/var/folders/jn/90br8jjn68b1psqfzrd83ry40000gn/T/ipykernel_80156/2565375832.py:18: RuntimeWarning: The data contains 'boundary' events, indicating data discontinuities. Be cautious of filtering and epoching around these events.\n",
      "  raw = mne.io.read_raw_eeglab(filename, preload=True)\n",
      "/var/folders/jn/90br8jjn68b1psqfzrd83ry40000gn/T/ipykernel_80156/2565375832.py:18: RuntimeWarning: The data contains 'boundary' events, indicating data discontinuities. Be cautious of filtering and epoching around these events.\n",
      "  raw = mne.io.read_raw_eeglab(filename, preload=True)\n"
     ]
    },
    {
     "name": "stdout",
     "output_type": "stream",
     "text": [
      "[<RawEEGLAB | sub-066_task-eyesclosed_eeg.set, 19 x 274880 (549.8 s), ~39.9 MB, data loaded>, <RawEEGLAB | sub-067_task-eyesclosed_eeg.set, 19 x 321550 (643.1 s), ~46.6 MB, data loaded>, <RawEEGLAB | sub-068_task-eyesclosed_eeg.set, 19 x 286550 (573.1 s), ~41.6 MB, data loaded>, <RawEEGLAB | sub-069_task-eyesclosed_eeg.set, 19 x 318050 (636.1 s), ~46.1 MB, data loaded>, <RawEEGLAB | sub-070_task-eyesclosed_eeg.set, 19 x 239550 (479.1 s), ~34.8 MB, data loaded>, <RawEEGLAB | sub-071_task-eyesclosed_eeg.set, 19 x 309450 (618.9 s), ~44.9 MB, data loaded>, <RawEEGLAB | sub-072_task-eyesclosed_eeg.set, 19 x 328710 (657.4 s), ~47.7 MB, data loaded>, <RawEEGLAB | sub-073_task-eyesclosed_eeg.set, 19 x 427290 (854.6 s), ~62.0 MB, data loaded>, <RawEEGLAB | sub-074_task-eyesclosed_eeg.set, 19 x 507250 (1014.5 s), ~73.6 MB, data loaded>, <RawEEGLAB | sub-075_task-eyesclosed_eeg.set, 19 x 374090 (748.2 s), ~54.3 MB, data loaded>, <RawEEGLAB | sub-076_task-eyesclosed_eeg.set, 19 x 409400 (818.8 s), ~59.4 MB, data loaded>, <RawEEGLAB | sub-077_task-eyesclosed_eeg.set, 19 x 349570 (699.1 s), ~50.7 MB, data loaded>, <RawEEGLAB | sub-078_task-eyesclosed_eeg.set, 19 x 435450 (870.9 s), ~63.1 MB, data loaded>, <RawEEGLAB | sub-079_task-eyesclosed_eeg.set, 19 x 408340 (816.7 s), ~59.2 MB, data loaded>, <RawEEGLAB | sub-080_task-eyesclosed_eeg.set, 19 x 457570 (915.1 s), ~66.4 MB, data loaded>, <RawEEGLAB | sub-081_task-eyesclosed_eeg.set, 19 x 412240 (824.5 s), ~59.8 MB, data loaded>, <RawEEGLAB | sub-082_task-eyesclosed_eeg.set, 19 x 388800 (777.6 s), ~56.4 MB, data loaded>, <RawEEGLAB | sub-083_task-eyesclosed_eeg.set, 19 x 456600 (913.2 s), ~66.2 MB, data loaded>, <RawEEGLAB | sub-084_task-eyesclosed_eeg.set, 19 x 326050 (652.1 s), ~47.3 MB, data loaded>, <RawEEGLAB | sub-085_task-eyesclosed_eeg.set, 19 x 280030 (560.1 s), ~40.6 MB, data loaded>, <RawEEGLAB | sub-086_task-eyesclosed_eeg.set, 19 x 289400 (578.8 s), ~42.0 MB, data loaded>, <RawEEGLAB | sub-087_task-eyesclosed_eeg.set, 19 x 301380 (602.8 s), ~43.7 MB, data loaded>, <RawEEGLAB | sub-088_task-eyesclosed_eeg.set, 19 x 392350 (784.7 s), ~56.9 MB, data loaded>]\n"
     ]
    },
    {
     "name": "stderr",
     "output_type": "stream",
     "text": [
      "/var/folders/jn/90br8jjn68b1psqfzrd83ry40000gn/T/ipykernel_80156/2565375832.py:18: RuntimeWarning: The data contains 'boundary' events, indicating data discontinuities. Be cautious of filtering and epoching around these events.\n",
      "  raw = mne.io.read_raw_eeglab(filename, preload=True)\n",
      "/var/folders/jn/90br8jjn68b1psqfzrd83ry40000gn/T/ipykernel_80156/2565375832.py:18: RuntimeWarning: The data contains 'boundary' events, indicating data discontinuities. Be cautious of filtering and epoching around these events.\n",
      "  raw = mne.io.read_raw_eeglab(filename, preload=True)\n"
     ]
    }
   ],
   "source": [
    "def get_data_ahepa():\n",
    "    \"\"\"\n",
    "    https://openneuro.org/datasets/ds004504/versions/1.0.7\n",
    "    A dataset of EEG recordings from: Alzheimer's disease, Frontotemporal dementia and Healthy subjects\n",
    "    \"\"\"\n",
    "    raws_all_sets = {}\n",
    "    # dictionary from set to 3d numpy array (time_segments, channels, time_points)\n",
    "\n",
    "    participants = pd.read_csv('data/AHEPA/participants.tsv', sep='\\t')\n",
    "\n",
    "\n",
    "    for disorder in {'F', 'C'}:\n",
    "        DISORDER = participants[participants['Group'] == disorder]\n",
    "\n",
    "        raws_one_disorder = []\n",
    "        for participant_id in DISORDER['participant_id']:\n",
    "            filename = f'data/AHEPA/derivatives/{participant_id}/eeg/{participant_id}_task-eyesclosed_eeg.set'   # read derivatives folder for preprocessed data\n",
    "            raw = mne.io.read_raw_eeglab(filename, preload=True)\n",
    "            # raw.plot()\n",
    "            raws_one_disorder.append(raw)\n",
    "\n",
    "        raws_all_sets[disorder] = raws_one_disorder\n",
    "\n",
    "    return raws_all_sets\n",
    "\n",
    "raws_all_sets = get_data_ahepa()\n",
    "print(raws_all_sets['F'])"
   ]
  },
  {
   "cell_type": "markdown",
   "id": "3667cdc0",
   "metadata": {},
   "source": [
    "#### Get Data"
   ]
  },
  {
   "cell_type": "code",
   "execution_count": 4,
   "id": "3d6d9354",
   "metadata": {},
   "outputs": [
    {
     "name": "stdout",
     "output_type": "stream",
     "text": [
      "(100, 1, 4096)\n"
     ]
    }
   ],
   "source": [
    "time_segments, channels, time_points = 100, 1, 4096\n",
    "freq = 173.61\n",
    "\n",
    "sets_to_use = ['A', 'B', 'C', 'D', 'E']\n",
    "data_all_sets = get_data_bonn(sets_to_use, time_segments=time_segments, time_points=time_points)\n",
    "print(data_all_sets['A'].shape)"
   ]
  },
  {
   "cell_type": "markdown",
   "id": "e50c7a57",
   "metadata": {},
   "source": []
  },
  {
   "cell_type": "markdown",
   "id": "88eaaa98",
   "metadata": {},
   "source": [
    "#### Create mne.Raw objects"
   ]
  },
  {
   "cell_type": "code",
   "execution_count": 5,
   "id": "7df108ef",
   "metadata": {},
   "outputs": [],
   "source": [
    "raws_all_sets = {}\n",
    "for set in sets_to_use:\n",
    "\n",
    "    raw_one_set = []\n",
    "    for time_segment in data_all_sets[set]:\n",
    "        info = mne.create_info(\n",
    "            ch_names=[f'c{i}' for i in range(channels)],\n",
    "            sfreq=freq,\n",
    "            ch_types='eeg',\n",
    "        )\n",
    "        raw_one_set.append(mne.io.RawArray(time_segment, info))\n",
    "\n",
    "    raws_all_sets[set] = raw_one_set"
   ]
  },
  {
   "cell_type": "markdown",
   "id": "80fd6442",
   "metadata": {},
   "source": [
    "# Preprocessing"
   ]
  },
  {
   "cell_type": "markdown",
   "id": "6df9f1ce",
   "metadata": {},
   "source": [
    "#### Filtering"
   ]
  },
  {
   "cell_type": "code",
   "execution_count": 6,
   "id": "e0d398ba",
   "metadata": {},
   "outputs": [],
   "source": [
    "for set in raws_all_sets:\n",
    "    # if set != 'A': break\n",
    "    for i, time_segment in enumerate(raws_all_sets[set]):\n",
    "        # if i > 0: break\n",
    "        # raws_all_sets[set][i].copy().compute_psd().plot()\n",
    "\n",
    "        # raws_all_sets[set][i].copy().plot(duration=5, n_channels=15, scalings=500)\n",
    "\n",
    "        raws_all_sets[set][i] = raws_all_sets[set][i].notch_filter(freqs=50)\n",
    "        raws_all_sets[set][i] = raws_all_sets[set][i].filter(l_freq=1, h_freq=50, filter_length=4095)\n",
    "\n",
    "        data_all_sets[set][i] = raws_all_sets[set][i]._data\n",
    "\n",
    "        # raws_all_sets[set][i].copy().compute_psd().plot();\n",
    "        # raws_all_sets[set][i].copy().plot(duration=5, n_channels=15, scalings=500);"
   ]
  },
  {
   "cell_type": "markdown",
   "id": "4f9e95db",
   "metadata": {},
   "source": [
    "#### Segmentation into intervals"
   ]
  },
  {
   "cell_type": "raw",
   "id": "3388799b",
   "metadata": {
    "vscode": {
     "languageId": "raw"
    }
   },
   "source": [
    "# bonn dataset has 1 channel and 100 segments already so no need to segment\n",
    "# will need to rewrite if actually segmenting data\n",
    "\n",
    "total_seconds = time_points/freq\n",
    "# interval_length = 5  # in seconds\n",
    "interval_length = total_seconds  # 1 time segment\n",
    "\n",
    "num_segments = int(total_seconds / interval_length)\n",
    "\n",
    "segments_all_sets: dict[str, np.ndarray] = {}\n",
    "for set in sets_to_use:\n",
    "    # create a list of numpy arrays, each containing the data of a single interval\n",
    "    tsegments = np.zeros((int(num_segments), channels, int(interval_length * freq)))  # shape (# segments, interval_length * freq)\n",
    "    t = 0\n",
    "    i = 0\n",
    "    while t < total_seconds and t + interval_length <= total_seconds:\n",
    "        tsegments[i] = data_all_sets[set][:, int(t*freq):int((t+interval_length)*freq)]\n",
    "        t += interval_length\n",
    "        i += 1\n",
    "    \n",
    "    segments_all_sets[set] = tsegments\n",
    "\n",
    "print(segments_all_sets['A'].shape)"
   ]
  },
  {
   "cell_type": "markdown",
   "id": "3619cd89",
   "metadata": {},
   "source": [
    "# Feature Extraction"
   ]
  },
  {
   "cell_type": "markdown",
   "id": "11fd2927",
   "metadata": {},
   "source": [
    "#### Define 1D multilevel DWT function for each time segment (using Daubechies 4)"
   ]
  },
  {
   "cell_type": "code",
   "execution_count": 7,
   "id": "102c8e83",
   "metadata": {},
   "outputs": [],
   "source": [
    "def discrete_wavelet_transform(data):\n",
    "    # 1D multilevel DWT\n",
    "    cA4, cD4, cD3, cD2, cD1 = pywt.wavedec(data, wavelet='db4', level=4)\n",
    "    # low frequencies => high time resolution, low freq resolution\n",
    "    # high frequences => low time resolution, high freq resolution\n",
    "    # print(cA4.shape)  # 0.1-4 Hz   60\n",
    "    # print(cD4.shape)  # 4-8 Hz     60\n",
    "    # print(cD3.shape)  # 8-15 Hz    114\n",
    "    # print(cD2.shape)  # 15-30 Hz   222\n",
    "    # print(cD1.shape)  # 30-60 Hz   437\n",
    "    \n",
    "    # plt.plot(cD1.flatten())\n",
    "    # plt.xlabel('Sample')\n",
    "    # plt.ylabel('Amplitude')\n",
    "    # plt.title('cD1')\n",
    "    # plt.show()\n",
    "    return cA4, cD4, cD3, cD2, cD1"
   ]
  },
  {
   "cell_type": "markdown",
   "id": "492db95a",
   "metadata": {},
   "source": [
    "#### Define feature vector functions"
   ]
  },
  {
   "cell_type": "code",
   "execution_count": 8,
   "id": "3a3753f5",
   "metadata": {},
   "outputs": [],
   "source": [
    "def variance(data) -> ArrayN[np.float64]:\n",
    "    variance_data = np.var(data, axis=1)\n",
    "    return variance_data  # shape (# channels,)\n",
    "\n",
    "\n",
    "def standard_deviation(data) -> ArrayN[np.float64]:\n",
    "    \"\"\"\n",
    "    measures the amount of variation of a set of values\n",
    "    \"\"\"\n",
    "    std_data = np.std(data, axis=1)\n",
    "    return std_data\n",
    "\n",
    "\n",
    "def kurtosis(data) -> ArrayN[np.float64]:\n",
    "    \"\"\"\n",
    "    measure of the 'tailedness' of the data or outliers\n",
    "    \"\"\"\n",
    "    # fisher = True is default, which subtracts 3 from the final value\n",
    "    return scipy.stats.kurtosis(data, axis=1, fisher=False)\n",
    "\n",
    "\n",
    "def nn_shannon_entropy(data) -> ArrayN[np.float64]:\n",
    "    \"\"\"\n",
    "    measures the uncertainty of the data (or how surprising it is)\n",
    "    \"\"\"\n",
    "    # squared so log is never taken of a negative number in the data\n",
    "    squared = data**2\n",
    "    output = np.sum(squared * np.log(squared), axis=1)\n",
    "    return output\n",
    "\n",
    "    # output2 = np.sum(data * np.log(data), axis=1)\n",
    "    # return output2   # returns nan because there are negative numbers\n",
    "    return scipy.stats.entropy(data, axis=1)  # returns -inf\n",
    "\n",
    "\n",
    "def logarithmic_band_power(data) -> ArrayN[np.float64]:\n",
    "    \"\"\"\n",
    "    \"\"\"\n",
    "    n = data.shape[1]\n",
    "    return np.log(np.sum(data**2, axis=1) / n)\n",
    "\n",
    "\n",
    "\n",
    "def compute_features_(data):\n",
    "    # TODO: instead of 5 features for every dwt output do something else\n",
    "    pass\n",
    "\n",
    "\n",
    "def compute_features(data):  # -> shape (100, 5)\n",
    "    return np.array([\n",
    "        logarithmic_band_power(data),\n",
    "        standard_deviation(data),\n",
    "        variance(data),\n",
    "        kurtosis(data),\n",
    "        nn_shannon_entropy(data)\n",
    "    ], dtype=np.float64).T"
   ]
  },
  {
   "cell_type": "markdown",
   "id": "fe7ebd49",
   "metadata": {},
   "source": [
    "#### Define feature vector graphing functions"
   ]
  },
  {
   "cell_type": "code",
   "execution_count": 9,
   "id": "37af206e",
   "metadata": {},
   "outputs": [],
   "source": [
    "BandType = Literal['A4', 'D4', 'D3', 'D2', 'D1']\n",
    "FeatureType = Literal['LBP', 'Std', 'Var', 'Kur', 'SE']\n",
    "\n",
    "# GETS FEATURE FROM 25 LENGTH FEATURE VECTORS\n",
    "\n",
    "\n",
    "def get_feature(\n",
    "    feature_vector: np.ndarray,\n",
    "    band: BandType,\n",
    "    feature: FeatureType\n",
    ") -> np.float64:\n",
    "\n",
    "    bands = ['A4', 'D4', 'D3', 'D2', 'D1']\n",
    "    features = ['LBP', 'Std', 'Var', 'Kur', 'SE']\n",
    "\n",
    "    row = bands.index(band)\n",
    "    col = features.index(feature)\n",
    "\n",
    "    return feature_vector[\n",
    "        # channel * len(bands) * len(features)\n",
    "        row * len(features)\n",
    "        + col\n",
    "    ]\n",
    "\n",
    "\n",
    "def graph_feature_vectors(feature_vectors_all_sets: dict[str, np.ndarray], band_x: BandType, band_y: BandType, feature: FeatureType, flatten_channels=False, graph_individual_channels: bool = False):\n",
    "    # colors = ['blue', 'green', 'yellow', 'red', 'black']\n",
    "    colors = ['blue', 'blue', 'red', 'red', 'red']\n",
    "\n",
    "    # Loop through each available set\n",
    "    for i, set in enumerate(feature_vectors_all_sets):\n",
    "        # shape (# tsegments, # channels, 25)\n",
    "        feature_vectors = feature_vectors_all_sets[set]\n",
    "\n",
    "        # Loop through each time segment\n",
    "        for feature_vector in feature_vectors:  # shape (# channels, 25)\n",
    "            if graph_individual_channels and not flatten_channels:\n",
    "                # Loop thru channels and only graph specific parts of each feature vector\n",
    "                for channel in range(channels):\n",
    "                    x = get_feature(\n",
    "                        feature_vector[channel], band=band_x, feature=feature)\n",
    "                    y = get_feature(\n",
    "                        feature_vector[channel], band=band_y, feature=feature)\n",
    "\n",
    "                    plt.scatter(x, y, color=colors[i], s=4)\n",
    "            else:\n",
    "                if flatten_channels:\n",
    "                    x = get_feature(\n",
    "                        feature_vector, band=band_x, feature=feature)\n",
    "                    y = get_feature(\n",
    "                        feature_vector, band=band_y, feature=feature)\n",
    "                else:\n",
    "                    x = get_feature(\n",
    "                        feature_vector[0], band=band_x, feature=feature)\n",
    "                    y = get_feature(\n",
    "                        feature_vector[0], band=band_y, feature=feature)\n",
    "                plt.scatter(x, y, color=colors[i], s=4)\n",
    "\n",
    "    plt.xlabel(f'{band_x} {feature}')\n",
    "    plt.ylabel(f'{band_y} {feature}')\n",
    "    plt.show()"
   ]
  },
  {
   "cell_type": "markdown",
   "id": "04695502",
   "metadata": {},
   "source": [
    "#### Compute feature vector for each segment"
   ]
  },
  {
   "cell_type": "code",
   "execution_count": 10,
   "id": "9a7ecce6",
   "metadata": {},
   "outputs": [
    {
     "data": {
      "image/png": "[encoded data removed]",
      "text/plain": [
       "<Figure size 640x480 with 1 Axes>"
      ]
     },
     "metadata": {},
     "output_type": "display_data"
    }
   ],
   "source": [
    "# set → ndarray shape (# tsegments, # channels, 25) or (# tsegments, # channels * 25)\n",
    "feature_vectors_all_sets: dict[str, np.ndarray] = {}\n",
    "flatten_channels = True\n",
    "\n",
    "for set in data_all_sets:\n",
    "    tsegments = data_all_sets[set]   # shape (# tsegments, # channels, 4096)\n",
    "\n",
    "    segment_feature_vectors = []\n",
    "    for segment_data in tsegments:  # shape (# channels, 4096)\n",
    "        # Perform discrete wavelet transform on data\n",
    "        dwt_outputs = discrete_wavelet_transform(\n",
    "            data=segment_data)   # shape (# channels, <4096)\n",
    "\n",
    "        # 5 features are extracted (LBP, SD, var, kur, SE) from each DWT-extracted freq band\n",
    "        outputs = np.hstack([compute_features(dwt_output)\n",
    "                            for dwt_output in dwt_outputs])  # (# channels, 25)\n",
    "        if flatten_channels:\n",
    "            segment_feature_vectors.append(\n",
    "                outputs.flatten())  # shape (# channels * 25)\n",
    "        else:\n",
    "            segment_feature_vectors.append(outputs)  # shape (# channels, 25)\n",
    "\n",
    "    feature_vectors_all_sets[set] = np.array(segment_feature_vectors)\n",
    "\n",
    "graph_feature_vectors(feature_vectors_all_sets, band_x='A4', band_y='D4', feature='LBP', flatten_channels=flatten_channels, graph_individual_channels=True)   # A4 = delta = 0.1-4 Hz, D4 = theta = 4-8 Hz"
   ]
  },
  {
   "cell_type": "markdown",
   "id": "d9dd2a2c",
   "metadata": {},
   "source": [
    "# Classification"
   ]
  },
  {
   "cell_type": "markdown",
   "id": "8572adcb",
   "metadata": {},
   "source": [
    "#### Attach labels"
   ]
  },
  {
   "cell_type": "code",
   "execution_count": 13,
   "id": "03d3fcaf",
   "metadata": {},
   "outputs": [
    {
     "name": "stdout",
     "output_type": "stream",
     "text": [
      "(100, 25)\n",
      "     A4_LBP      A4_Std        A4_Var    A4_Kur         A4_SE    D4_LBP  \\\n",
      "0  9.320015  105.610479  11153.573271  3.227087  2.945328e+07  8.926857   \n",
      "1  9.478054  114.317478  13068.485797  3.157692  3.504191e+07  9.201274   \n",
      "2  9.567521  119.539916  14289.791549  2.922802  3.854536e+07  8.894679   \n",
      "3  9.120057   95.586178   9136.717469  3.110568  2.363312e+07  9.079039   \n",
      "4  9.335510  106.456613  11333.010368  2.663844  2.970025e+07  8.834972   \n",
      "\n",
      "      D4_Std       D4_Var    D4_Kur         D4_SE  ...     D2_Std      D2_Var  \\\n",
      "0  86.772970  7529.548403  3.399866  1.928472e+07  ...  17.093892  292.201151   \n",
      "1  99.508310  9901.903720  3.627034  2.600630e+07  ...  24.125273  582.028812   \n",
      "2  85.032335  7230.497925  3.521433  1.848408e+07  ...  18.996412  360.863676   \n",
      "3  93.485403  8739.520593  3.352153  2.267803e+07  ...  29.695417  881.817772   \n",
      "4  82.073913  6736.127123  4.662324  1.772766e+07  ...  19.003171  361.120515   \n",
      "\n",
      "     D2_Kur         D2_SE    D1_LBP    D1_Std     D1_Var    D1_Kur  \\\n",
      "0  3.222646  1.933252e+06  2.010796  2.732995   7.469262  3.260736   \n",
      "1  3.047706  4.256379e+06  2.615255  3.697391  13.670702  3.145549   \n",
      "2  3.450324  2.481121e+06  2.141049  2.916909   8.508361  3.239013   \n",
      "3  3.092515  6.832609e+06  3.502272  5.761144  33.190782  3.210364   \n",
      "4  3.048714  2.464396e+06  2.532057  3.546738  12.579350  2.935861   \n",
      "\n",
      "           D1_SE  Set  \n",
      "0   42261.234402    0  \n",
      "1   94546.029091    0  \n",
      "2   50743.232059    0  \n",
      "3  289971.363009    0  \n",
      "4   83563.010630    0  \n",
      "\n",
      "[5 rows x 26 columns]\n",
      "(500, 25) (500,)\n"
     ]
    }
   ],
   "source": [
    "import pandas as pd\n",
    "\n",
    "set_mapping = {\n",
    "    'A': 0,\n",
    "    'B': 0,\n",
    "    'C': 1,\n",
    "    'D': 1,\n",
    "    'E': 1\n",
    "}  # 1 = epileptic, 0 = healthy     E is seizure\n",
    "\n",
    "print(feature_vectors_all_sets['A'].shape)\n",
    "\n",
    "data = pd.DataFrame(np.vstack([feature_vectors_all_sets[set] for set in feature_vectors_all_sets]))\n",
    "data.columns = [f'{band}_{feature}' for band in ['A4', 'D4', 'D3', 'D2', 'D1'] for feature in ['LBP', 'Std', 'Var', 'Kur', 'SE']]\n",
    "data['Set'] = sum([[set_mapping[set]] * 100 for set in feature_vectors_all_sets], [])\n",
    "\n",
    "X = data.drop('Set', axis=1)\n",
    "y = data['Set'].values\n",
    "print(data.head())\n",
    "print(X.shape, y.shape)"
   ]
  },
  {
   "cell_type": "markdown",
   "id": "c99f1f31",
   "metadata": {},
   "source": [
    "#### K-nearest neighbors"
   ]
  },
  {
   "cell_type": "code",
   "execution_count": 12,
   "id": "08c2c184",
   "metadata": {},
   "outputs": [
    {
     "name": "stdout",
     "output_type": "stream",
     "text": [
      "0.92\n",
      "0.98\n",
      "0.92\n",
      "0.96\n",
      "0.9\n",
      "0.98\n",
      "1.0\n",
      "0.98\n",
      "1.0\n",
      "0.96\n",
      "0.9600000000000002\n"
     ]
    }
   ],
   "source": [
    "from sklearn.model_selection import KFold, StratifiedKFold, train_test_split\n",
    "from sklearn.neighbors import KNeighborsClassifier\n",
    "from sklearn import metrics\n",
    "\n",
    "\n",
    "def stratified_train_test_validation_split(X, y, ratio_train=0.8, ratio_val=0.1, ratio_test=0.1):\n",
    "    if ratio_train + ratio_val + ratio_test != 1:\n",
    "        return\n",
    "    X_remaining, X_test, y_remaining, y_test = train_test_split(\n",
    "        X, y, test_size=ratio_test, random_state=1)\n",
    "\n",
    "    # Produces train and val splits.\n",
    "    X_train, X_val, y_train, y_val = train_test_split(\n",
    "        X_remaining, y_remaining, test_size=ratio_val / (1 - ratio_test), random_state=1)\n",
    "\n",
    "    return X_train, X_val, X_test, y_train, y_val, y_test\n",
    "\n",
    "\n",
    "def k_fold_cross_validation(X, y, k_folds=10):\n",
    "    \"\"\"\n",
    "    k-fold cross validation\n",
    "    inputs: X, y, k_folds\n",
    "    \"\"\"\n",
    "    # https://scikit-learn.org/stable/modules/generated/sklearn.model_selection.KFold.html\n",
    "    kf = KFold(n_splits=k_folds, random_state=1, shuffle=True)\n",
    "    kf.get_n_splits(X)\n",
    "    accuracy = 0\n",
    "    for train_index, test_index in kf.split(X):\n",
    "        X_train, X_test = X[train_index], X[test_index]\n",
    "        y_train, y_test = y[train_index], y[test_index]\n",
    "        accuracy_this_fold = knn(X_train, y_train, X_test, y_test, k=5)\n",
    "        accuracy += accuracy_this_fold\n",
    "        print(accuracy_this_fold)\n",
    "    return accuracy / k_folds\n",
    "\n",
    "\n",
    "def knn(X_train, y_train, X_test, y_test, k):\n",
    "    \"\"\"\n",
    "    normal knn classifier\n",
    "    determines the best k value and returns the best accuracy\n",
    "    inputs: train test split\n",
    "    \"\"\"\n",
    "    # https://www.tutorialspoint.com/scikit_learn/scikit_learn_kneighbors_classifier.htm\n",
    "    knn = KNeighborsClassifier(n_neighbors=k)\n",
    "    knn.fit(X_train, y_train)\n",
    "    y_pred = knn.predict(X_test)\n",
    "    # confusion_matrix = metrics.confusion_matrix(y_test, y_pred)\n",
    "\n",
    "    return metrics.accuracy_score(y_test, y_pred)\n",
    "\n",
    "\n",
    "def _find_best_k(X_train, y_train, X_test, y_test):\n",
    "    k_range = range(1, 15)\n",
    "    scores = {}\n",
    "    scores_list = []\n",
    "    for k in k_range:\n",
    "        knn = KNeighborsClassifier(n_neighbors=k)\n",
    "        knn.fit(X_train, y_train)\n",
    "        y_pred = knn.predict(X_test)\n",
    "        scores[k] = metrics.accuracy_score(y_test, y_pred)\n",
    "        scores_list.append(metrics.accuracy_score(y_test, y_pred))\n",
    "\n",
    "    # Plot the accuracy for different k values\n",
    "    plt.plot(k_range, scores_list)\n",
    "    plt.xlabel(\"k\")\n",
    "    plt.ylabel(\"Accuracy\")\n",
    "\n",
    "    return max(scores, key=scores.get)\n",
    "\n",
    "\n",
    "# --------------------- single split KNN ---------------------\n",
    "# X_train, X_val, X_test, y_train, y_val, y_test = stratified_train_test_validation_split(\n",
    "#     X, y)\n",
    "# knn_accuracy = knn(X_train, y_train, X_test, y_test)\n",
    "# print(knn_accuracy)\n",
    "\n",
    "# --------------------- k-fold cross validation ---------------------\n",
    "k_fold_accuracy = k_fold_cross_validation(X.values, y, k_folds=10)\n",
    "print(k_fold_accuracy)\n"
   ]
  }
 ],
 "metadata": {
  "kernelspec": {
   "display_name": "Python 3 (ipykernel)",
   "language": "python",
   "name": "python3"
  },
  "language_info": {
   "codemirror_mode": {
    "name": "ipython",
    "version": 3
   },
   "file_extension": ".py",
   "mimetype": "text/x-python",
   "name": "python",
   "nbconvert_exporter": "python",
   "pygments_lexer": "ipython3",
   "version": "3.11.3"
  }
 },
 "nbformat": 4,
 "nbformat_minor": 5
}
