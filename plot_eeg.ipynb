{
 "cells": [
  {
   "cell_type": "code",
   "execution_count": 2,
   "id": "2075be99-abce-42b0-b74c-e5bedc871f47",
   "metadata": {},
   "outputs": [],
   "source": [
    "import mne\n",
    "import numpy as np\n",
    "import numpy.typing as npt\n",
    "import matplotlib.pyplot as plt\n",
    "import scipy\n",
    "import pywt\n",
    "\n",
    "mne.set_log_level('WARNING')\n",
    "mne.set_config('MNE_BROWSE_RAW_SIZE','16,8')\n",
    "\n",
    "# Types\n",
    "from typing import Annotated, Literal, TypeVar\n",
    "\n",
    "DType = TypeVar(\"DType\", bound=np.generic)\n",
    "ArrayN = Annotated[npt.NDArray[DType], Literal['N']]"
   ]
  },
  {
   "cell_type": "markdown",
   "id": "bbc6b366",
   "metadata": {},
   "source": [
    "# Get Data"
   ]
  },
  {
   "cell_type": "markdown",
   "id": "8c640b78",
   "metadata": {},
   "source": [
    "### Bonn University\n",
    "\n",
    "Sets A and B are from healthy patients, while Sets C, D, and E are from epileptic patients.\n",
    "\n",
    "Sets C and D are seizure-free segments while set E is during a seizure.\n",
    "\n",
    "Each set contains 100 single-channel EEG segments of 23.6-sec duration."
   ]
  },
  {
   "cell_type": "code",
   "execution_count": 3,
   "id": "09ff65b9-8ca8-4736-9430-c1395b61e2e4",
   "metadata": {},
   "outputs": [],
   "source": [
    "def get_data(sets_to_read: list, channels: int, time_points: int) -> dict[str, np.ndarray]:\n",
    "    data = dict()\n",
    "\n",
    "    # maps from set_letter to set_letter_alternate (for the filenames)\n",
    "    sets_to_file_prefixes = {\n",
    "        'A': 'Z',\n",
    "        'B': 'O',\n",
    "        'C': 'N',\n",
    "        'D': 'F',\n",
    "        'E': 'S'\n",
    "    }\n",
    "\n",
    "    for set in sets_to_read:\n",
    "        if set not in sets_to_file_prefixes:\n",
    "            continue\n",
    "\n",
    "        set_letter_alternate = sets_to_file_prefixes[set]\n",
    "\n",
    "        set_data = np.zeros((channels, time_points))\n",
    "        for i in range(channels):\n",
    "            filename = f'data/bonn/SET {set}/{set_letter_alternate}{str(i+1).zfill(3)}.txt'\n",
    "            z = np.loadtxt(filename)\n",
    "            set_data[i] = z[:time_points]\n",
    "\n",
    "        data[set] = set_data\n",
    "\n",
    "    return data\n",
    "\n",
    "channels, time_points = 100, 4096\n",
    "freq = 173.61\n",
    "\n",
    "sets_to_use = ['A', 'E']\n",
    "data_all_sets = get_data(sets_to_use, channels, time_points)"
   ]
  },
  {
   "cell_type": "markdown",
   "id": "88eaaa98",
   "metadata": {},
   "source": [
    "### Create mne.Raw objects"
   ]
  },
  {
   "cell_type": "code",
   "execution_count": 4,
   "id": "7df108ef",
   "metadata": {},
   "outputs": [],
   "source": [
    "raws_all_sets = {}\n",
    "for set in sets_to_use:\n",
    "    info = mne.create_info(\n",
    "        ch_names=[f'c{i}' for i in range(channels)],\n",
    "        sfreq=freq,\n",
    "        ch_types='eeg',\n",
    "    )\n",
    "    raws_all_sets[set] = mne.io.RawArray(data_all_sets[set], info)"
   ]
  },
  {
   "cell_type": "markdown",
   "id": "80fd6442",
   "metadata": {},
   "source": [
    "# Preprocessing"
   ]
  },
  {
   "cell_type": "markdown",
   "id": "6df9f1ce",
   "metadata": {},
   "source": [
    "### Filtering"
   ]
  },
  {
   "cell_type": "code",
   "execution_count": 5,
   "id": "e0d398ba",
   "metadata": {},
   "outputs": [
    {
     "name": "stdout",
     "output_type": "stream",
     "text": [
      "{'A': <RawArray | 100 x 4096 (23.6 s), ~3.2 MB, data loaded>, 'E': <RawArray | 100 x 4096 (23.6 s), ~3.2 MB, data loaded>}\n"
     ]
    },
    {
     "name": "stderr",
     "output_type": "stream",
     "text": [
      "/var/folders/jn/90br8jjn68b1psqfzrd83ry40000gn/T/ipykernel_22993/1935024092.py:7: RuntimeWarning: filter_length (5731) is longer than the signal (4096), distortion is likely. Reduce filter length or filter a longer signal.\n",
      "  raws_all_sets[set] = raws_all_sets[set].filter(l_freq=0.1, h_freq=50)\n",
      "/var/folders/jn/90br8jjn68b1psqfzrd83ry40000gn/T/ipykernel_22993/1935024092.py:7: RuntimeWarning: filter_length (5731) is longer than the signal (4096), distortion is likely. Reduce filter length or filter a longer signal.\n",
      "  raws_all_sets[set] = raws_all_sets[set].filter(l_freq=0.1, h_freq=50)\n"
     ]
    }
   ],
   "source": [
    "for set in raws_all_sets:\n",
    "    # raw.copy().compute_psd().plot()\n",
    "\n",
    "    # raw.copy().plot(duration=5, n_channels=15, scalings=500)\n",
    "\n",
    "    raws_all_sets[set] = raws_all_sets[set].notch_filter(freqs=50)\n",
    "    raws_all_sets[set] = raws_all_sets[set].filter(l_freq=0.1, h_freq=50)\n",
    "\n",
    "    # raw.copy().compute_psd().plot();\n",
    "    # raw.copy().plot(duration=5, n_channels=15, scalings=500);\n",
    "print(raws_all_sets)"
   ]
  },
  {
   "cell_type": "markdown",
   "id": "4f9e95db",
   "metadata": {},
   "source": [
    "### Segmentation into intervals"
   ]
  },
  {
   "cell_type": "code",
   "execution_count": 6,
   "id": "3388799b",
   "metadata": {},
   "outputs": [],
   "source": [
    "total_seconds = time_points/freq\n",
    "interval_length = 5  # in seconds\n",
    "\n",
    "segments_all_sets = {}\n",
    "for set in sets_to_use:\n",
    "    # create a list of numpy arrays, each containing the data of a single interval\n",
    "    segments = []\n",
    "    t = 0\n",
    "    while t < time_points/freq:\n",
    "        segments.append(data_all_sets[set][:, int(t*freq):int((t+interval_length)*freq)])\n",
    "        t += interval_length\n",
    "    \n",
    "    segments_all_sets[set] = segments"
   ]
  },
  {
   "cell_type": "markdown",
   "id": "3619cd89",
   "metadata": {},
   "source": [
    "# Feature Extraction"
   ]
  },
  {
   "cell_type": "markdown",
   "id": "11fd2927",
   "metadata": {},
   "source": [
    "### Define 1D multilevel DWT function for each time segment (using Daubechies 4)"
   ]
  },
  {
   "cell_type": "code",
   "execution_count": 7,
   "id": "102c8e83",
   "metadata": {},
   "outputs": [],
   "source": [
    "def discrete_wavelet_transform(data):\n",
    "    # 1D multilevel DWT\n",
    "    cA4, cD4, cD3, cD2, cD1 = pywt.wavedec(data, wavelet='db4', level=4)\n",
    "    # low frequencies => high time resolution, low freq resolution\n",
    "    # high frequences => low time resolution, high freq resolution\n",
    "    # print(cA4.shape)  # 0.1-4 Hz   60\n",
    "    # print(cD4.shape)  # 4-8 Hz     60\n",
    "    # print(cD3.shape)  # 8-15 Hz    114\n",
    "    # print(cD2.shape)  # 15-30 Hz   222\n",
    "    # print(cD1.shape)  # 30-60 Hz   437\n",
    "    return cA4, cD4, cD3, cD2, cD1"
   ]
  },
  {
   "cell_type": "markdown",
   "id": "492db95a",
   "metadata": {},
   "source": [
    "### Define feature vector functions"
   ]
  },
  {
   "cell_type": "code",
   "execution_count": 8,
   "id": "3a3753f5",
   "metadata": {},
   "outputs": [],
   "source": [
    "def variance(data) -> ArrayN[np.float64]:\n",
    "    variance_data = np.var(data, axis=1)\n",
    "    return variance_data  # shape (# channels,)\n",
    "\n",
    "def standard_deviation(data) -> ArrayN[np.float64]:\n",
    "    std_data = np.std(data, axis=1)\n",
    "    return std_data\n",
    "\n",
    "def kurtosis(data) -> ArrayN[np.float64]:\n",
    "    # fisher = True is default, which subtracts 3 from the final value\n",
    "    return scipy.stats.kurtosis(data, axis=1, fisher=False)\n",
    "\n",
    "def nn_shannon_entropy(data) -> ArrayN[np.float64]:\n",
    "    # shannon entropy - a measure of how uncertain the data is (or how surprising it is?)\n",
    "    # squared so log is never taken of a negative number in the data\n",
    "    squared = data**2\n",
    "    output = np.sum(squared * np.log(squared), axis=1)\n",
    "    return output\n",
    "    \n",
    "    # output2 = np.sum(data * np.log(data), axis=1)\n",
    "    # return output2   # returns nan because there are negative numbers\n",
    "    return scipy.stats.entropy(data, axis=1)  # returns -inf\n",
    "\n",
    "def logarithmic_band_power(data) -> ArrayN[np.float64]:\n",
    "    n = data.shape[1]\n",
    "    return np.log(np.sum(data**2, axis=1) / n)\n",
    "\n",
    "def compute_features(data):\n",
    "    return np.array([\n",
    "        logarithmic_band_power(data),\n",
    "        standard_deviation(data),\n",
    "        variance(data),\n",
    "        kurtosis(data),\n",
    "        nn_shannon_entropy(data)\n",
    "    ], dtype=np.float64).T"
   ]
  },
  {
   "cell_type": "markdown",
   "id": "fe7ebd49",
   "metadata": {},
   "source": [
    "### Define feature vector graphing functions"
   ]
  },
  {
   "cell_type": "code",
   "execution_count": 9,
   "id": "37af206e",
   "metadata": {},
   "outputs": [],
   "source": [
    "BandType = Literal['A4', 'D4', 'D3', 'D2', 'D1']\n",
    "FeatureType = Literal['LBP', 'Std', 'Var', 'Kur', 'SE']\n",
    "\n",
    "# GETS FEATURE FROM 25 LENGTH FEATURE VECTORS\n",
    "def get_feature(\n",
    "        feature_vector: np.ndarray,\n",
    "        band: BandType,\n",
    "        feature: FeatureType\n",
    "    ) -> np.float64:\n",
    "    \n",
    "    bands = ['A4', 'D4', 'D3', 'D2', 'D1']\n",
    "    features = ['LBP', 'Std', 'Var', 'Kur', 'SE']\n",
    "    \n",
    "    row = bands.index(band)\n",
    "    col = features.index(feature)\n",
    "\n",
    "    return feature_vector[row * len(features) + col]\n",
    "\n",
    "def graph_feature_vectors(channel_feature_vectors_all_sets: dict[str, np.ndarray], band_x: BandType, band_y: BandType, feature: FeatureType):\n",
    "    colors = ['blue', 'green', 'yellow', 'red', 'black']\n",
    "\n",
    "    for i, set in enumerate(channel_feature_vectors_all_sets):\n",
    "        channel_feature_vectors = channel_feature_vectors_all_sets[set]\n",
    "\n",
    "        for feature_vector in channel_feature_vectors:\n",
    "            x = get_feature(feature_vector, band_x, feature)\n",
    "            y = get_feature(feature_vector, band_y, feature)\n",
    "\n",
    "            plt.scatter(x, y, color=colors[i])\n",
    "    \n",
    "    plt.show()"
   ]
  },
  {
   "cell_type": "markdown",
   "id": "04695502",
   "metadata": {},
   "source": [
    "### Compute feature vector for each segment"
   ]
  },
  {
   "cell_type": "code",
   "execution_count": 10,
   "id": "9a7ecce6",
   "metadata": {},
   "outputs": [
    {
     "data": {
      "image/png": "[encoded data removed]",
      "text/plain": [
       "<Figure size 640x480 with 1 Axes>"
      ]
     },
     "metadata": {},
     "output_type": "display_data"
    }
   ],
   "source": [
    "channel_feature_vectors_all_sets = {}\n",
    "\n",
    "for set in segments_all_sets:\n",
    "    segments = segments_all_sets[set]\n",
    "\n",
    "    for i, segment_data in enumerate(segments):\n",
    "        # interval_data shape = (100, 868)\n",
    "        if i > 0: break   # TODO debug: to test only 1 interval\n",
    "\n",
    "        # Perform discrete wavelet transform on data\n",
    "        dwt_outputs = discrete_wavelet_transform(data=segment_data)\n",
    "\n",
    "        # 5 features are extracted (LBP, SD, var, kur, SE) from each dwt output, so 5 rows, len(dwt_outputs) cols\n",
    "        outputs = []\n",
    "        for i, dwt_output in enumerate(dwt_outputs):\n",
    "            # dwt_output shape - any of (100, 60), (100, 114), (100, 222), (100, 437)\n",
    "            # TODO: should the feature vectors be calculated separately for each channel? this would result in 100 * 25 features for each time segment. assuming yes\n",
    "\n",
    "            # Compute features for each DWT output: [LBP, Std, Var, Kur, SE]\n",
    "            features = compute_features(dwt_output)   # shape (# channels, 5 features)\n",
    "            outputs.append(features)\n",
    "\n",
    "        channel_feature_vectors_all_sets[set] = np.hstack(outputs)  # shape (100, 25)\n",
    "        # [LBP, Std, Var, Kur, SE] for each DWT-extracted freq band, for each channel\n",
    "\n",
    "        # graph_feature_vectors(feature_vectors, band_x='A4', band_y='D4', feature='SE')  # seems off\n",
    "\n",
    "graph_feature_vectors(channel_feature_vectors_all_sets, band_x='A4', band_y='D4', feature='LBP')   # A4 = delta = 0.1-4 Hz, D4 = theta = 4-8 Hz"
   ]
  }
 ],
 "metadata": {
  "kernelspec": {
   "display_name": "Python 3 (ipykernel)",
   "language": "python",
   "name": "python3"
  },
  "language_info": {
   "codemirror_mode": {
    "name": "ipython",
    "version": 3
   },
   "file_extension": ".py",
   "mimetype": "text/x-python",
   "name": "python",
   "nbconvert_exporter": "python",
   "pygments_lexer": "ipython3",
   "version": "3.11.3"
  }
 },
 "nbformat": 4,
 "nbformat_minor": 5
}
