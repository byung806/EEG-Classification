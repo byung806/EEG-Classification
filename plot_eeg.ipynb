{
 "cells": [
  {
   "cell_type": "code",
   "execution_count": null,
   "id": "2075be99-abce-42b0-b74c-e5bedc871f47",
   "metadata": {},
   "outputs": [],
   "source": [
    "import mne\n",
    "import numpy as np\n",
    "import numpy.typing as npt\n",
    "import scipy\n",
    "import pywt\n",
    "\n",
    "mne.set_log_level('WARNING')\n",
    "mne.set_config('MNE_BROWSE_RAW_SIZE','16,8')\n",
    "\n",
    "# Types\n",
    "from typing import Annotated, Literal, TypeVar\n",
    "\n",
    "DType = TypeVar(\"DType\", bound=np.generic)\n",
    "ArrayN = Annotated[npt.NDArray[DType], Literal['N']]"
   ]
  },
  {
   "cell_type": "markdown",
   "id": "bbc6b366",
   "metadata": {},
   "source": [
    "### Get Bonn University data\n",
    "Sets A and B are from healthy patients, while Sets C, D, and E are from epileptic patients.\n",
    "\n",
    "Sets C and D are seizure-free segments while set E is during a seizure.\n",
    "\n",
    "Each set contains 100 single-channel EEG segments of 23.6-sec duration."
   ]
  },
  {
   "cell_type": "code",
   "execution_count": null,
   "id": "09ff65b9-8ca8-4736-9430-c1395b61e2e4",
   "metadata": {},
   "outputs": [],
   "source": [
    "def get_data(channels: int, time_points: int) -> dict[str, np.ndarray]:\n",
    "    data = dict()\n",
    "\n",
    "    # maps from set_letter to set_letter_alternate (for the filenames)\n",
    "    sets = {\n",
    "        'A': 'Z',\n",
    "        'B': 'O',\n",
    "        'C': 'N',\n",
    "        'D': 'F',\n",
    "        'E': 'S'\n",
    "    }\n",
    "\n",
    "    for set_letter in sets:\n",
    "        set_letter_alternate = sets[set_letter]\n",
    "\n",
    "        set_data = np.zeros((channels, time_points))\n",
    "        for i in range(channels):\n",
    "            filename = f'data/bonn/SET {set_letter}/{set_letter_alternate}{str(i+1).zfill(3)}.txt'\n",
    "            z = np.loadtxt(filename)\n",
    "            set_data[i] = z[:time_points]\n",
    "\n",
    "        data[set_letter] = set_data\n",
    "\n",
    "    return data\n",
    "\n",
    "channels, time_points = 100, 4096\n",
    "freq = 173.61\n",
    "\n",
    "set_letter = 'D'\n",
    "data = get_data(channels, time_points)\n",
    "\n",
    "info = mne.create_info(\n",
    "    ch_names=[f'c{i}' for i in range(channels)],\n",
    "    sfreq=freq,\n",
    "    ch_types='eeg',\n",
    ")\n",
    "raw = mne.io.RawArray(data[set_letter], info)"
   ]
  },
  {
   "cell_type": "markdown",
   "id": "80fd6442",
   "metadata": {},
   "source": [
    "# Preprocessing\n",
    "### Filtering"
   ]
  },
  {
   "cell_type": "code",
   "execution_count": null,
   "id": "e0d398ba",
   "metadata": {},
   "outputs": [],
   "source": [
    "# raw.copy().compute_psd().plot()\n",
    "\n",
    "# raw.copy().plot(duration=5, n_channels=15, scalings=500)\n",
    "\n",
    "raw = raw.notch_filter(freqs=50)\n",
    "raw = raw.filter(l_freq=0.1, h_freq=50)\n",
    "\n",
    "# raw.copy().compute_psd().plot();\n",
    "# raw.copy().plot(duration=5, n_channels=15, scalings=500);\n"
   ]
  },
  {
   "cell_type": "markdown",
   "id": "4f9e95db",
   "metadata": {},
   "source": [
    "### Segmentation into intervals"
   ]
  },
  {
   "cell_type": "code",
   "execution_count": null,
   "id": "3388799b",
   "metadata": {},
   "outputs": [],
   "source": [
    "# TODO: see if the thing is actually split into time inveral??\n",
    "\n",
    "total_seconds = time_points/freq\n",
    "interval_length = 5  # in seconds\n",
    "\n",
    "# create a list of numpy arrays, each containing the data of a single interval\n",
    "intervals = []\n",
    "t = 0\n",
    "while t < time_points/freq:\n",
    "    intervals.append(data[set_letter][:, int(t*freq):int((t+interval_length)*freq)])\n",
    "    t += interval_length"
   ]
  },
  {
   "cell_type": "markdown",
   "id": "3619cd89",
   "metadata": {},
   "source": [
    "# Feature Extraction\n",
    "### Define 1D multilevel DWT function for each time interval (using Daubechies 4)"
   ]
  },
  {
   "cell_type": "code",
   "execution_count": null,
   "id": "102c8e83",
   "metadata": {},
   "outputs": [],
   "source": [
    "def discrete_wavelet_transform(interval_data):\n",
    "    # 1D multilevel DWT\n",
    "    pass"
   ]
  }
 ],
 "metadata": {
  "kernelspec": {
   "display_name": "Python 3 (ipykernel)",
   "language": "python",
   "name": "python3"
  },
  "language_info": {
   "codemirror_mode": {
    "name": "ipython",
    "version": 3
   },
   "file_extension": ".py",
   "mimetype": "text/x-python",
   "name": "python",
   "nbconvert_exporter": "python",
   "pygments_lexer": "ipython3",
   "version": "3.11.3"
  }
 },
 "nbformat": 4,
 "nbformat_minor": 5
}
